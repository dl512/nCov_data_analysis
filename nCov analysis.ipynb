{
 "cells": [
  {
   "cell_type": "code",
   "execution_count": 567,
   "metadata": {},
   "outputs": [],
   "source": [
    "import numpy as np\n",
    "import pandas as pd\n",
    "from pandas import DataFrame\n",
    "import datetime\n",
    "from datetime import timedelta\n",
    "import matplotlib.pyplot as plt\n",
    "import matplotlib.ticker as mticker"
   ]
  },
  {
   "cell_type": "code",
   "execution_count": 568,
   "metadata": {},
   "outputs": [],
   "source": [
    "start_date = datetime.date(2020, 1, 21)\n",
    "end_date = datetime.date(2020, 2, 8)"
   ]
  },
  {
   "cell_type": "code",
   "execution_count": 569,
   "metadata": {},
   "outputs": [],
   "source": [
    "nCov_confirmed_data = pd.read_csv(r'C:\\Users\\David Lau\\Desktop\\nCov_data_confirmed_20200208.csv')\n",
    "nCov_death_data = pd.read_csv(r'C:\\Users\\David Lau\\Desktop\\nCov_data_death_20200208.csv')"
   ]
  },
  {
   "cell_type": "code",
   "execution_count": 570,
   "metadata": {},
   "outputs": [],
   "source": [
    "remove_column = [\"1/24/2020 12:00 AM\",\n",
    "\"1/25/2020 12:00 AM\",\n",
    "\"1/25/2020 12:00 PM\",\n",
    "\"1/26/2020 11:00 AM\",\n",
    "\"1/27/2020 9:00 AM\",\n",
    "\"1/27/2020 7:00 PM\",\n",
    "\"1/28/2020 1:00 PM\",\n",
    "\"1/28/2020 6:00 PM\",\n",
    "\"1/29/2020 1:30 PM\",\n",
    "\"1/29/2020 2:30 PM\",\n",
    "\"1/31/2020 2:00 PM\",\n",
    "\"2/4/2020 9:40\",\n",
    "\"2/5/2020 9:00\",\n",
    "\"2/6/2020 9:00\",\n",
    "\"2/7/2020 20:13\",\n",
    "\"2/8/2020 22:04\"]\n",
    "\n",
    "def RemoveDate (original_file):\n",
    "    revised_file = original_file\n",
    "    for n in remove_column:\n",
    "        revised_file = revised_file.drop(n, axis=1)\n",
    "    return revised_file"
   ]
  },
  {
   "cell_type": "code",
   "execution_count": 571,
   "metadata": {},
   "outputs": [],
   "source": [
    "revised_nCov_confirmed_data = RemoveDate(nCov_confirmed_data)\n",
    "revised_nCov_death_data = RemoveDate(nCov_death_data)"
   ]
  },
  {
   "cell_type": "code",
   "execution_count": 572,
   "metadata": {},
   "outputs": [],
   "source": [
    "def RenameDate(original_file):\n",
    "    original_file.rename(\n",
    "        columns={\n",
    "            \"1/21/2020 10:00 PM\": datetime.date(2020, 1, 21),\n",
    "            \"1/22/2020 12:00 PM\": datetime.date(2020, 1, 22),\n",
    "            \"1/23/2020 12:00 PM\": datetime.date(2020, 1, 23),\n",
    "            \"1/24/2020 12:00 PM\": datetime.date(2020, 1, 24),\n",
    "            \"1/25/2020 10:00 PM\": datetime.date(2020, 1, 25),\n",
    "            \"1/26/2020 11:00 PM\": datetime.date(2020, 1, 26),\n",
    "            \"1/27/2020 8:30 PM\": datetime.date(2020, 1, 27),\n",
    "            \"1/28/2020 11:00 PM\": datetime.date(2020, 1, 28),\n",
    "            \"1/29/2020 9:00 PM\": datetime.date(2020, 1, 29),\n",
    "            \"1/30/2020 11:00 AM\": datetime.date(2020, 1, 30),\n",
    "            \"1/31/2020 7:00 PM\": datetime.date(2020, 1, 31),\n",
    "            \"2/1/2020 10:00\": datetime.date(2020, 2, 1),\n",
    "            \"2/2/2020 21:00\": datetime.date(2020, 2, 2),\n",
    "            \"2/3/2020 21:00\": datetime.date(2020, 2, 3),\n",
    "            \"2/4/2020 22:00\": datetime.date(2020, 2, 4),\n",
    "            \"2/5/2020 23:00\": datetime.date(2020, 2, 5),\n",
    "            \"2/6/2020 14:20\": datetime.date(2020, 2, 6),\n",
    "            \"2/7/2020 22:50\": datetime.date(2020, 2, 7),\n",
    "            \"2/8/2020 23:04\": datetime.date(2020,2,8)\n",
    "        },\n",
    "        inplace=True\n",
    "    )\n",
    "    return original_file"
   ]
  },
  {
   "cell_type": "code",
   "execution_count": 573,
   "metadata": {},
   "outputs": [],
   "source": [
    "revised_nCov_confirmed_data = RenameDate(revised_nCov_confirmed_data)\n",
    "revised_nCov_death_data = RenameDate(revised_nCov_death_data)"
   ]
  },
  {
   "cell_type": "code",
   "execution_count": 574,
   "metadata": {},
   "outputs": [],
   "source": [
    "revised_nCov_confirmed_data.at[38,\"Country/Region\"] = \"Mainland China\"\n",
    "revised_nCov_death_data.at[38,\"Country/Region\"] = \"Mainland China\""
   ]
  },
  {
   "cell_type": "code",
   "execution_count": 575,
   "metadata": {},
   "outputs": [],
   "source": [
    "death_rate = revised_nCov_confirmed_data.copy()\n",
    "death_rate.loc[:,start_date:end_date] = revised_nCov_death_data.loc[:,start_date:end_date].div(revised_nCov_confirmed_data.loc[:,start_date:end_date])"
   ]
  },
  {
   "cell_type": "code",
   "execution_count": 576,
   "metadata": {},
   "outputs": [],
   "source": [
    "revised_nCov_confirmed_data_China = revised_nCov_confirmed_data[revised_nCov_confirmed_data[\"Country/Region\"] == \"Mainland China\"]\n",
    "revised_nCov_death_data_China = revised_nCov_death_data[revised_nCov_death_data[\"Country/Region\"] == \"Mainland China\"]\n",
    "revised_nCov_confirmed_data_ExChina = revised_nCov_confirmed_data[revised_nCov_confirmed_data[\"Country/Region\"] != \"Mainland China\"]\n",
    "revised_nCov_death_data_ExChina = revised_nCov_death_data[revised_nCov_death_data[\"Country/Region\"] != \"Mainland China\"]"
   ]
  },
  {
   "cell_type": "code",
   "execution_count": 577,
   "metadata": {},
   "outputs": [],
   "source": [
    "revised_nCov_confirmed_data_ChinaExHubei = revised_nCov_confirmed_data_China[revised_nCov_confirmed_data_China[\"Province/State\"] != \"Hubei\"]\n",
    "revised_nCov_death_data_ChinaExHubei = revised_nCov_death_data_China[revised_nCov_death_data_China[\"Province/State\"] != \"Hubei\"]\n",
    "revised_nCov_confirmed_data_Hubei = revised_nCov_confirmed_data_China[revised_nCov_confirmed_data_China[\"Province/State\"] == \"Hubei\"]\n",
    "revised_nCov_death_data_Hubei = revised_nCov_death_data_China[revised_nCov_death_data_China[\"Province/State\"] == \"Hubei\"]"
   ]
  },
  {
   "cell_type": "code",
   "execution_count": 578,
   "metadata": {},
   "outputs": [],
   "source": [
    "total_confirmed = revised_nCov_confirmed_data.sum(axis=0,)\n",
    "total_death = revised_nCov_death_data.sum(axis=0)\n",
    "total_death_rate = total_death / total_confirmed\n",
    "\n",
    "total_confirmed_China = revised_nCov_confirmed_data_China.sum(axis=0)\n",
    "total_death_China = revised_nCov_death_data_China.sum(axis=0)\n",
    "total_confirmed_China = total_confirmed_China.drop(['Province/State'])\n",
    "total_confirmed_China = total_confirmed_China.drop(['Country/Region'])\n",
    "total_death_rate_China = total_death_China / total_confirmed_China\n",
    "\n",
    "total_confirmed_ExChina = revised_nCov_confirmed_data_ExChina.sum(axis=0)\n",
    "total_death_ExChina = revised_nCov_death_data_ExChina.sum(axis=0)\n",
    "total_death_rate_ExChina = total_death_ExChina / total_confirmed_ExChina\n",
    "\n",
    "total_confirmed_ChinaExHubei = revised_nCov_confirmed_data_ChinaExHubei.sum(axis=0)\n",
    "total_death_ChinaExHubei = revised_nCov_death_data_ChinaExHubei.sum(axis=0)\n",
    "total_confirmed_ChinaExHubei = total_confirmed_ChinaExHubei.drop(['Province/State'])\n",
    "total_confirmed_ChinaExHubei = total_confirmed_ChinaExHubei.drop(['Country/Region'])\n",
    "total_death_rate_ChinaExHubei = total_death_ChinaExHubei / total_confirmed_ChinaExHubei\n",
    "\n",
    "revised_nCov_confirmed_data_Hubei_temp = revised_nCov_confirmed_data_Hubei.loc[:,start_date:end_date]\n",
    "revised_nCov_death_data_Hubei_temp = revised_nCov_death_data_Hubei.loc[:,start_date:end_date]\n",
    "\n",
    "total_confirmed_Hubei = revised_nCov_confirmed_data_Hubei_temp.sum(axis=0)\n",
    "total_death_Hubei = revised_nCov_death_data_Hubei_temp.sum(axis=0)\n",
    "total_death_rate_Hubei = total_death_Hubei / total_confirmed_Hubei"
   ]
  },
  {
   "cell_type": "code",
   "execution_count": 579,
   "metadata": {},
   "outputs": [
    {
     "name": "stdout",
     "output_type": "stream",
     "text": [
      "0.028782287822878228\n",
      "0.0030668777206173327\n",
      "9.384882752053327\n"
     ]
    }
   ],
   "source": [
    "print(total_death_rate_Hubei[end_date])\n",
    "print(total_death_rate_ChinaExHubei[end_date])\n",
    "print(total_death_rate_Hubei[end_date] / total_death_rate_ChinaExHubei[end_date])"
   ]
  },
  {
   "cell_type": "code",
   "execution_count": 580,
   "metadata": {},
   "outputs": [],
   "source": [
    "result = pd.concat([total_death_rate,total_death_rate_Hubei,total_death_rate_ChinaExHubei], axis=1, sort=False)"
   ]
  },
  {
   "cell_type": "code",
   "execution_count": 581,
   "metadata": {},
   "outputs": [],
   "source": [
    "def plotGraph(ChinaList, HubeiList, ExHubeiList):\n",
    "    fig, ax = plt.subplots()\n",
    "    ChinaList.plot(label='China Overall')\n",
    "    HubeiList.plot(label='Hubei')\n",
    "    ExHubeiList.plot(label='Ex-Hubei')\n",
    "    plt.legend(loc='upper right', borderaxespad=0.)\n",
    "    loc = mticker.MultipleLocator(base=4.0)\n",
    "    ax.xaxis.set_major_locator(loc)\n",
    "    plt.show()"
   ]
  },
  {
   "cell_type": "code",
   "execution_count": 582,
   "metadata": {},
   "outputs": [],
   "source": [
    "def TotalToNew(total_list):\n",
    "    new_list = [0]\n",
    "    for i in total_list[start_date:end_date - timedelta(days=1)]:\n",
    "        new_list.append(i)\n",
    "    return total_list-new_list"
   ]
  },
  {
   "cell_type": "code",
   "execution_count": 583,
   "metadata": {},
   "outputs": [],
   "source": [
    "new_confirmed = TotalToNew(total_confirmed)\n",
    "new_death = TotalToNew(total_death)\n",
    "\n",
    "new_confirmed_China = TotalToNew(total_confirmed_China)\n",
    "new_death_China = TotalToNew(total_death_China)\n",
    "\n",
    "new_confirmed_Hubei = TotalToNew(total_confirmed_Hubei)\n",
    "new_death_Hubei = TotalToNew(total_death_Hubei)\n",
    "\n",
    "new_confirmed_ChinaExHubei = TotalToNew(total_confirmed_ChinaExHubei)\n",
    "new_death_ChinaExHubei = TotalToNew(total_death_ChinaExHubei)\n",
    "\n",
    "new_confirmed_ExChina = TotalToNew(total_confirmed_ExChina)\n",
    "new_death_ExChina = TotalToNew(total_death_ExChina)"
   ]
  },
  {
   "cell_type": "code",
   "execution_count": 584,
   "metadata": {},
   "outputs": [
    {
     "data": {
      "image/png": "[encoded data removed]",
      "text/plain": [
       "<Figure size 432x288 with 1 Axes>"
      ]
     },
     "metadata": {
      "needs_background": "light"
     },
     "output_type": "display_data"
    }
   ],
   "source": [
    "plotGraph(new_death_China,new_death_Hubei,new_death_ChinaExHubei)"
   ]
  },
  {
   "cell_type": "code",
   "execution_count": 601,
   "metadata": {},
   "outputs": [
    {
     "data": {
      "text/plain": [
       "2020-01-21     270.0\n",
       "2020-01-22     174.0\n",
       "2020-01-23       0.0\n",
       "2020-01-24     105.0\n",
       "2020-01-25     503.0\n",
       "2020-01-26     371.0\n",
       "2020-01-27    1291.0\n",
       "2020-01-28     840.0\n",
       "2020-01-29    1032.0\n",
       "2020-01-30     317.0\n",
       "2020-01-31    2250.0\n",
       "2020-02-01       0.0\n",
       "2020-02-02    4024.0\n",
       "2020-02-03    2345.0\n",
       "2020-02-04    3156.0\n",
       "2020-02-05    2987.0\n",
       "2020-02-06       0.0\n",
       "2020-02-07    5288.0\n",
       "2020-02-08    2147.0\n",
       "dtype: float64"
      ]
     },
     "execution_count": 601,
     "metadata": {},
     "output_type": "execute_result"
    }
   ],
   "source": [
    "new_confirmed_Hubei"
   ]
  },
  {
   "cell_type": "code",
   "execution_count": 607,
   "metadata": {},
   "outputs": [],
   "source": [
    "def movingAvg(original):\n",
    "    new = original.copy()\n",
    "    l = len(original)\n",
    "    new[0] = (original[0]+original[1])/2\n",
    "    for i in range(l-2):\n",
    "        new[i] = (original[i]+original[i+1]+original[i+2])/3\n",
    "    new[l-1] = (original[l-2]+original[l-1])/2\n",
    "    return new"
   ]
  },
  {
   "cell_type": "code",
   "execution_count": 608,
   "metadata": {},
   "outputs": [],
   "source": [
    "new_confirmed_avg = movingAvg(new_confirmed)\n",
    "new_death_avg = movingAvg(new_death)\n",
    "\n",
    "new_confirmed_China_avg = movingAvg(new_confirmed_China)\n",
    "new_death_China_avg = movingAvg(new_death_China)\n",
    "\n",
    "new_confirmed_Hubei_avg = movingAvg(new_confirmed_Hubei)\n",
    "new_death_Hubei_avg = movingAvg(new_death_Hubei)\n",
    "\n",
    "new_confirmed_ChinaExHubei_avg = movingAvg(new_confirmed_ChinaExHubei)\n",
    "new_death_ChinaExHubei_avg = movingAvg(new_death_ChinaExHubei)\n",
    "\n",
    "new_confirmed_ExChina_avg = movingAvg(new_confirmed_ExChina)\n",
    "new_death_ExChina_avg = movingAvg(new_death_ExChina)\n"
   ]
  },
  {
   "cell_type": "code",
   "execution_count": 625,
   "metadata": {},
   "outputs": [],
   "source": [
    "def calc_delayed_death_rate(confirmed, death, days_delayed):\n",
    "    rate = confirmed.copy()\n",
    "    l = len(confirmed)\n",
    "    for i in range(days_delayed):\n",
    "        rate[i] = 0\n",
    "    for i in range(days_delayed,l):\n",
    "        rate[i] = death[i] / confirmed[i-days_delayed]\n",
    "    return rate"
   ]
  },
  {
   "cell_type": "code",
   "execution_count": 634,
   "metadata": {},
   "outputs": [
    {
     "data": {
      "text/plain": [
       "2020-01-21    0.000000\n",
       "2020-01-22    0.000000\n",
       "2020-01-23    0.000000\n",
       "2020-01-24    0.000000\n",
       "2020-01-25    0.171171\n",
       "2020-01-26    0.261649\n",
       "2020-01-27    0.141447\n",
       "2020-01-28    0.063330\n",
       "2020-01-29    0.057275\n",
       "2020-01-30    0.034772\n",
       "2020-01-31    0.059437\n",
       "2020-02-01    0.075377\n",
       "2020-02-02    0.063907\n",
       "2020-02-03    0.077522\n",
       "2020-02-04    0.021517\n",
       "2020-02-05    0.034542\n",
       "2020-02-06    0.024252\n",
       "2020-02-07    0.053016\n",
       "2020-02-08    0.056406\n",
       "dtype: float64"
      ]
     },
     "execution_count": 634,
     "metadata": {},
     "output_type": "execute_result"
    }
   ],
   "source": [
    "calc_delayed_death_rate(new_confirmed_Hubei_avg, new_death_Hubei_avg, 4)"
   ]
  },
  {
   "cell_type": "code",
   "execution_count": 633,
   "metadata": {},
   "outputs": [
    {
     "name": "stdout",
     "output_type": "stream",
     "text": [
      "2020-01-21     148.000000\n",
      "2020-01-22      93.000000\n",
      "2020-01-23     202.666667\n",
      "2020-01-24     326.333333\n",
      "2020-01-25     721.666667\n",
      "2020-01-26     834.000000\n",
      "2020-01-27    1054.333333\n",
      "2020-01-28     729.666667\n",
      "2020-01-29    1199.666667\n",
      "2020-01-30     855.666667\n",
      "2020-01-31    2091.333333\n",
      "2020-02-01    2123.000000\n",
      "2020-02-02    3175.000000\n",
      "2020-02-03    2829.333333\n",
      "2020-02-04    2047.666667\n",
      "2020-02-05    2758.333333\n",
      "2020-02-06    2478.333333\n",
      "2020-02-07    5288.000000\n",
      "2020-02-08    3717.500000\n",
      "dtype: float64 2020-01-21      0.000000\n",
      "2020-01-22      8.000000\n",
      "2020-01-23     17.333333\n",
      "2020-01-24     25.333333\n",
      "2020-01-25     25.333333\n",
      "2020-01-26     24.333333\n",
      "2020-01-27     28.666667\n",
      "2020-01-28     20.666667\n",
      "2020-01-29     41.333333\n",
      "2020-01-30     29.000000\n",
      "2020-01-31     62.666667\n",
      "2020-02-01     55.000000\n",
      "2020-02-02     76.666667\n",
      "2020-02-03     66.333333\n",
      "2020-02-04     45.000000\n",
      "2020-02-05     73.333333\n",
      "2020-02-06     77.000000\n",
      "2020-02-07    150.000000\n",
      "2020-02-08    115.500000\n",
      "dtype: float64\n"
     ]
    }
   ],
   "source": [
    "print(new_confirmed_Hubei_avg, new_death_Hubei_avg)"
   ]
  },
  {
   "cell_type": "code",
   "execution_count": null,
   "metadata": {},
   "outputs": [],
   "source": []
  }
 ],
 "metadata": {
  "kernelspec": {
   "display_name": "Python 3",
   "language": "python",
   "name": "python3"
  },
  "language_info": {
   "codemirror_mode": {
    "name": "ipython",
    "version": 3
   },
   "file_extension": ".py",
   "mimetype": "text/x-python",
   "name": "python",
   "nbconvert_exporter": "python",
   "pygments_lexer": "ipython3",
   "version": "3.7.3"
  }
 },
 "nbformat": 4,
 "nbformat_minor": 2
}
